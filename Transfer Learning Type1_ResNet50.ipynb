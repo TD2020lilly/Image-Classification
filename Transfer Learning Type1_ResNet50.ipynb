{
 "cells": [
  {
   "cell_type": "code",
   "execution_count": 22,
   "metadata": {},
   "outputs": [],
   "source": [
    "from keras.models import Sequential\n",
    "from scipy.misc import imread\n",
    "get_ipython().magic('matplotlib inline')\n",
    "import matplotlib.pyplot as plt\n",
    "import numpy as np\n",
    "import keras\n",
    "from keras.layers import Dense\n",
    "import pandas as pd\n",
    "\n",
    "from keras.applications import ResNet50\n",
    "from keras.preprocessing import image\n",
    "from keras.applications import imagenet_utils\n",
    "from keras.applications.vgg16 import decode_predictions\n",
    "from keras.applications.vgg16 import preprocess_input\n",
    "from keras.preprocessing.image import img_to_array\n",
    "from keras.preprocessing.image import load_img\n",
    "import argparse \n",
    "\n",
    "import os\n",
    "import tarfile"
   ]
  },
  {
   "cell_type": "code",
   "execution_count": 5,
   "metadata": {
    "collapsed": true
   },
   "outputs": [],
   "source": [
    "train=pd.read_csv('train-scene/train.csv')\n",
    "test=pd.read_csv('test.csv')\n",
    "image_path='train-scene/train/'"
   ]
  },
  {
   "cell_type": "code",
   "execution_count": 6,
   "metadata": {
    "collapsed": true
   },
   "outputs": [],
   "source": [
    "from scipy.misc import imresize\n",
    "train_img=[]\n",
    "for i in range(len(train)):\n",
    "    temp_img=image.load_img(image_path+train['image_name'][i],target_size=(224,224))\n",
    "    temp_img=image.img_to_array(temp_img)\n",
    "    train_img.append(temp_img)"
   ]
  },
  {
   "cell_type": "code",
   "execution_count": 7,
   "metadata": {
    "collapsed": true
   },
   "outputs": [],
   "source": [
    "train_img=np.array(train_img)\n",
    "train_img=preprocess_input(train_img)"
   ]
  },
  {
   "cell_type": "code",
   "execution_count": 8,
   "metadata": {
    "collapsed": true
   },
   "outputs": [],
   "source": [
    "test_img=[]\n",
    "for i in range(len(test)):\n",
    "    temp_img=image.load_img(image_path+test['image_name'][i],target_size=(224,224))\n",
    "    temp_img=image.img_to_array(temp_img)\n",
    "    test_img.append(temp_img)"
   ]
  },
  {
   "cell_type": "code",
   "execution_count": 9,
   "metadata": {
    "collapsed": true
   },
   "outputs": [],
   "source": [
    "test_img=np.array(test_img)\n",
    "test_img=preprocess_input(test_img)"
   ]
  },
  {
   "cell_type": "code",
   "execution_count": 10,
   "metadata": {},
   "outputs": [
    {
     "name": "stderr",
     "output_type": "stream",
     "text": [
      "C:\\Users\\pf416e\\AppData\\Local\\Continuum\\Anaconda3\\lib\\site-packages\\keras_applications\\resnet50.py:265: UserWarning: The output shape of `ResNet50(include_top=False)` has been changed since Keras 2.2.0.\n",
      "  warnings.warn('The output shape of `ResNet50(include_top=False)` '\n"
     ]
    },
    {
     "name": "stdout",
     "output_type": "stream",
     "text": [
      "Downloading data from https://github.com/fchollet/deep-learning-models/releases/download/v0.2/resnet50_weights_tf_dim_ordering_tf_kernels_notop.h5\n",
      "94658560/94653016 [==============================] - 84s 1us/step\n"
     ]
    }
   ],
   "source": [
    "model = ResNet50(weights='imagenet', include_top=False)"
   ]
  },
  {
   "cell_type": "code",
   "execution_count": 11,
   "metadata": {
    "collapsed": true
   },
   "outputs": [],
   "source": [
    "features_train=model.predict(train_img)\n",
    "features_test=model.predict(test_img)"
   ]
  },
  {
   "cell_type": "code",
   "execution_count": 13,
   "metadata": {},
   "outputs": [],
   "source": [
    "train_x=features_train.reshape(17034,100352)\n",
    "train_y=np.asarray(train['label'])"
   ]
  },
  {
   "cell_type": "code",
   "execution_count": 14,
   "metadata": {
    "collapsed": true
   },
   "outputs": [],
   "source": [
    "train_y=np.asarray(train['label'])\n",
    "# performing one-hot encoding for the target variable\n",
    "\n",
    "train_y=pd.get_dummies(train_y)\n",
    "train_y=np.array(train_y)\n",
    "# creating training and validation set\n",
    "\n",
    "from sklearn.model_selection import train_test_split\n",
    "X_train, X_valid, Y_train, Y_valid=train_test_split(train_x,train_y,test_size=0.3, random_state=42)\n"
   ]
  },
  {
   "cell_type": "code",
   "execution_count": 15,
   "metadata": {},
   "outputs": [
    {
     "name": "stdout",
     "output_type": "stream",
     "text": [
      "Train on 11923 samples, validate on 5111 samples\n",
      "Epoch 1/20\n",
      "11923/11923 [==============================] - 710s 60ms/step - loss: 0.3025 - acc: 0.9002 - val_loss: 0.2386 - val_acc: 0.9077\n",
      "Epoch 2/20\n",
      "11923/11923 [==============================] - 720s 60ms/step - loss: 0.1747 - acc: 0.9417 - val_loss: 0.2260 - val_acc: 0.9184\n",
      "Epoch 3/20\n",
      "11923/11923 [==============================] - 743s 62ms/step - loss: 0.1572 - acc: 0.9472 - val_loss: 0.2174 - val_acc: 0.9213\n",
      "Epoch 4/20\n",
      "11923/11923 [==============================] - 735s 62ms/step - loss: 0.1327 - acc: 0.9567 - val_loss: 0.2110 - val_acc: 0.9300\n",
      "Epoch 5/20\n",
      "11923/11923 [==============================] - 701s 59ms/step - loss: 0.1167 - acc: 0.9619 - val_loss: 0.2253 - val_acc: 0.9212\n",
      "Epoch 6/20\n",
      "11923/11923 [==============================] - 512s 43ms/step - loss: 0.1205 - acc: 0.9597 - val_loss: 0.2472 - val_acc: 0.9145\n",
      "Epoch 7/20\n",
      "11923/11923 [==============================] - 513s 43ms/step - loss: 0.1192 - acc: 0.9614 - val_loss: 0.2292 - val_acc: 0.9155\n",
      "Epoch 8/20\n",
      "11923/11923 [==============================] - 509s 43ms/step - loss: 0.1161 - acc: 0.9629 - val_loss: 0.2602 - val_acc: 0.9032\n",
      "Epoch 9/20\n",
      "11923/11923 [==============================] - 508s 43ms/step - loss: 0.1255 - acc: 0.9568 - val_loss: 0.2613 - val_acc: 0.9131\n",
      "Epoch 10/20\n",
      "11923/11923 [==============================] - 509s 43ms/step - loss: 0.1188 - acc: 0.9625 - val_loss: 0.2580 - val_acc: 0.9094\n",
      "Epoch 11/20\n",
      "11923/11923 [==============================] - 508s 43ms/step - loss: 0.1199 - acc: 0.9589 - val_loss: 0.2465 - val_acc: 0.9143\n",
      "Epoch 12/20\n",
      "11923/11923 [==============================] - 509s 43ms/step - loss: 0.1320 - acc: 0.9550 - val_loss: 0.2406 - val_acc: 0.9174\n",
      "Epoch 13/20\n",
      "11923/11923 [==============================] - 509s 43ms/step - loss: 0.1340 - acc: 0.9562 - val_loss: 0.2554 - val_acc: 0.9176\n",
      "Epoch 14/20\n",
      "11923/11923 [==============================] - 520s 44ms/step - loss: 0.1189 - acc: 0.9617 - val_loss: 0.2400 - val_acc: 0.9143\n",
      "Epoch 15/20\n",
      "11923/11923 [==============================] - 512s 43ms/step - loss: 0.1183 - acc: 0.9590 - val_loss: 0.2555 - val_acc: 0.9153\n",
      "Epoch 16/20\n",
      "11923/11923 [==============================] - 511s 43ms/step - loss: 0.1114 - acc: 0.9639 - val_loss: 0.2228 - val_acc: 0.9258\n",
      "Epoch 17/20\n",
      "11923/11923 [==============================] - 508s 43ms/step - loss: 0.1132 - acc: 0.9620 - val_loss: 0.2516 - val_acc: 0.9137\n",
      "Epoch 18/20\n",
      "11923/11923 [==============================] - 2389s 200ms/step - loss: 0.1075 - acc: 0.9635 - val_loss: 0.2325 - val_acc: 0.9208\n",
      "Epoch 19/20\n",
      "11923/11923 [==============================] - 508s 43ms/step - loss: 0.1061 - acc: 0.9660 - val_loss: 0.2439 - val_acc: 0.9210\n",
      "Epoch 20/20\n",
      "11923/11923 [==============================] - 667s 56ms/step - loss: 0.1069 - acc: 0.9655 - val_loss: 0.2246 - val_acc: 0.9223\n"
     ]
    },
    {
     "data": {
      "text/plain": [
       "<keras.callbacks.History at 0x288f8fd3e10>"
      ]
     },
     "execution_count": 15,
     "metadata": {},
     "output_type": "execute_result"
    }
   ],
   "source": [
    "# creating a mlp model\n",
    "from keras.layers import Dense, Activation\n",
    "model=Sequential()\n",
    "\n",
    "model.add(Dense(1000, input_dim=100352, activation='relu',kernel_initializer='uniform'))\n",
    "keras.layers.core.Dropout(0.3, noise_shape=None, seed=None)\n",
    "\n",
    "model.add(Dense(500,input_dim=1000,activation='sigmoid'))\n",
    "keras.layers.core.Dropout(0.4, noise_shape=None, seed=None)\n",
    "\n",
    "model.add(Dense(150,input_dim=500,activation='sigmoid'))\n",
    "keras.layers.core.Dropout(0.2, noise_shape=None, seed=None)\n",
    "\n",
    "model.add(Dense(units=6))\n",
    "model.add(Activation('softmax'))\n",
    "\n",
    "model.compile(loss='categorical_crossentropy', optimizer=\"adam\", metrics=['accuracy'])\n",
    "\n",
    "# fitting the model \n",
    "\n",
    "model.fit(X_train, Y_train, epochs=20, batch_size=30,validation_data=(X_valid,Y_valid))\n"
   ]
  },
  {
   "cell_type": "code",
   "execution_count": 16,
   "metadata": {
    "collapsed": true
   },
   "outputs": [],
   "source": [
    "validation_x=features_test.reshape(7301,100352)"
   ]
  },
  {
   "cell_type": "code",
   "execution_count": 17,
   "metadata": {
    "collapsed": true
   },
   "outputs": [],
   "source": [
    "classes = model.predict(validation_x, batch_size=30)\n",
    "class_labels = np.argmax(classes, axis=1)\n",
    "class_labels_dt=pd.DataFrame(class_labels)\n",
    "class_labels_dt.columns=['label']"
   ]
  },
  {
   "cell_type": "code",
   "execution_count": 18,
   "metadata": {
    "collapsed": true
   },
   "outputs": [],
   "source": [
    "frames=[test,class_labels_dt]\n",
    "result = pd.concat(frames,axis=1)"
   ]
  },
  {
   "cell_type": "code",
   "execution_count": 19,
   "metadata": {
    "collapsed": true
   },
   "outputs": [],
   "source": [
    "result.to_csv('intel_model_resnet50_20_30.csv')"
   ]
  },
  {
   "cell_type": "code",
   "execution_count": 23,
   "metadata": {},
   "outputs": [],
   "source": [
    "save_dir = os.path.join(os.getcwd(), 'saved_models')\n",
    "model_name = 'keras_intel_trained_resnet50_model_20_30.h5'"
   ]
  },
  {
   "cell_type": "code",
   "execution_count": 24,
   "metadata": {},
   "outputs": [
    {
     "name": "stdout",
     "output_type": "stream",
     "text": [
      "Saved trained model at C:\\Users\\pf416e\\Desktop\\AV\\intel\\saved_models\\keras_intel_trained_resnet50_model_20_30.h5 \n"
     ]
    }
   ],
   "source": [
    "if not os.path.isdir(save_dir):\n",
    "    os.makedirs(save_dir)\n",
    "model_path = os.path.join(save_dir, model_name)\n",
    "model.save(model_path)\n",
    "print('Saved trained model at %s ' % model_path)"
   ]
  },
  {
   "cell_type": "code",
   "execution_count": null,
   "metadata": {
    "collapsed": true
   },
   "outputs": [],
   "source": []
  }
 ],
 "metadata": {
  "kernelspec": {
   "display_name": "Python 3",
   "language": "python",
   "name": "python3"
  },
  "language_info": {
   "codemirror_mode": {
    "name": "ipython",
    "version": 3
   },
   "file_extension": ".py",
   "mimetype": "text/x-python",
   "name": "python",
   "nbconvert_exporter": "python",
   "pygments_lexer": "ipython3",
   "version": "3.6.1"
  }
 },
 "nbformat": 4,
 "nbformat_minor": 2
}
